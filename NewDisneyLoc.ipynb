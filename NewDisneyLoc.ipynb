{
 "cells": [
  {
   "cell_type": "code",
   "execution_count": 1,
   "metadata": {},
   "outputs": [],
   "source": [
    "#This is the project to find the 3 new locations for new Disneylands!\n",
    "#Import all the packages we need.\n",
    "import pandas as pd\n",
    "import numpy as np\n",
    "from pyomo.environ import *\n",
    "from pyomo.opt import SolverFactory"
   ]
  },
  {
   "cell_type": "code",
   "execution_count": 2,
   "metadata": {},
   "outputs": [
    {
     "data": {
      "text/html": [
       "<div>\n",
       "<style scoped>\n",
       "    .dataframe tbody tr th:only-of-type {\n",
       "        vertical-align: middle;\n",
       "    }\n",
       "\n",
       "    .dataframe tbody tr th {\n",
       "        vertical-align: top;\n",
       "    }\n",
       "\n",
       "    .dataframe thead th {\n",
       "        text-align: right;\n",
       "    }\n",
       "</style>\n",
       "<table border=\"1\" class=\"dataframe\">\n",
       "  <thead>\n",
       "    <tr style=\"text-align: right;\">\n",
       "      <th></th>\n",
       "      <th>rank</th>\n",
       "      <th>country</th>\n",
       "      <th>area (km2)</th>\n",
       "      <th>region</th>\n",
       "      <th>subregion</th>\n",
       "      <th>pop2021</th>\n",
       "      <th>Exist Disney park number</th>\n",
       "      <th>GDP_score</th>\n",
       "      <th>GDP (billions)</th>\n",
       "      <th>temp_score</th>\n",
       "      <th>avg_temp</th>\n",
       "      <th>disney+_score</th>\n",
       "      <th>Disney+ consumer base</th>\n",
       "      <th>set-up cost(billion)</th>\n",
       "      <th>develped country score</th>\n",
       "    </tr>\n",
       "  </thead>\n",
       "  <tbody>\n",
       "    <tr>\n",
       "      <th>0</th>\n",
       "      <td>1</td>\n",
       "      <td>China</td>\n",
       "      <td>9706961</td>\n",
       "      <td>Asia</td>\n",
       "      <td>Eastern Asia</td>\n",
       "      <td>1.444216e+09</td>\n",
       "      <td>1</td>\n",
       "      <td>5</td>\n",
       "      <td>10216.630334</td>\n",
       "      <td>4</td>\n",
       "      <td>6.325664</td>\n",
       "      <td>2</td>\n",
       "      <td>0</td>\n",
       "      <td>4</td>\n",
       "      <td>10</td>\n",
       "    </tr>\n",
       "    <tr>\n",
       "      <th>1</th>\n",
       "      <td>2</td>\n",
       "      <td>India</td>\n",
       "      <td>3287590</td>\n",
       "      <td>Asia</td>\n",
       "      <td>Southern Asia</td>\n",
       "      <td>1.393409e+09</td>\n",
       "      <td>0</td>\n",
       "      <td>5</td>\n",
       "      <td>2100.751461</td>\n",
       "      <td>1</td>\n",
       "      <td>23.945434</td>\n",
       "      <td>2</td>\n",
       "      <td>0</td>\n",
       "      <td>2</td>\n",
       "      <td>10</td>\n",
       "    </tr>\n",
       "    <tr>\n",
       "      <th>2</th>\n",
       "      <td>3</td>\n",
       "      <td>United States</td>\n",
       "      <td>9372610</td>\n",
       "      <td>Americas</td>\n",
       "      <td>Northern America</td>\n",
       "      <td>3.329151e+08</td>\n",
       "      <td>1</td>\n",
       "      <td>1</td>\n",
       "      <td>65279.529026</td>\n",
       "      <td>4</td>\n",
       "      <td>10.000000</td>\n",
       "      <td>1</td>\n",
       "      <td>1</td>\n",
       "      <td>4</td>\n",
       "      <td>1</td>\n",
       "    </tr>\n",
       "    <tr>\n",
       "      <th>3</th>\n",
       "      <td>4</td>\n",
       "      <td>Indonesia</td>\n",
       "      <td>1904569</td>\n",
       "      <td>Asia</td>\n",
       "      <td>South-Eastern Asia</td>\n",
       "      <td>2.763618e+08</td>\n",
       "      <td>0</td>\n",
       "      <td>5</td>\n",
       "      <td>4135.201531</td>\n",
       "      <td>1</td>\n",
       "      <td>25.718970</td>\n",
       "      <td>2</td>\n",
       "      <td>0</td>\n",
       "      <td>2</td>\n",
       "      <td>10</td>\n",
       "    </tr>\n",
       "    <tr>\n",
       "      <th>4</th>\n",
       "      <td>5</td>\n",
       "      <td>Pakistan</td>\n",
       "      <td>881912</td>\n",
       "      <td>Asia</td>\n",
       "      <td>Southern Asia</td>\n",
       "      <td>2.251999e+08</td>\n",
       "      <td>0</td>\n",
       "      <td>5</td>\n",
       "      <td>1284.702047</td>\n",
       "      <td>2</td>\n",
       "      <td>19.981015</td>\n",
       "      <td>2</td>\n",
       "      <td>0</td>\n",
       "      <td>2</td>\n",
       "      <td>10</td>\n",
       "    </tr>\n",
       "  </tbody>\n",
       "</table>\n",
       "</div>"
      ],
      "text/plain": [
       "   rank        country  area (km2)    region           subregion  \\\n",
       "0     1          China     9706961      Asia        Eastern Asia   \n",
       "1     2          India     3287590      Asia       Southern Asia   \n",
       "2     3  United States     9372610  Americas    Northern America   \n",
       "3     4      Indonesia     1904569      Asia  South-Eastern Asia   \n",
       "4     5       Pakistan      881912      Asia       Southern Asia   \n",
       "\n",
       "        pop2021  Exist Disney park number  GDP_score  GDP (billions)  \\\n",
       "0  1.444216e+09                         1          5    10216.630334   \n",
       "1  1.393409e+09                         0          5     2100.751461   \n",
       "2  3.329151e+08                         1          1    65279.529026   \n",
       "3  2.763618e+08                         0          5     4135.201531   \n",
       "4  2.251999e+08                         0          5     1284.702047   \n",
       "\n",
       "   temp_score   avg_temp  disney+_score  Disney+ consumer base  \\\n",
       "0           4   6.325664              2                      0   \n",
       "1           1  23.945434              2                      0   \n",
       "2           4  10.000000              1                      1   \n",
       "3           1  25.718970              2                      0   \n",
       "4           2  19.981015              2                      0   \n",
       "\n",
       "   set-up cost(billion)  develped country score  \n",
       "0                     4                      10  \n",
       "1                     2                      10  \n",
       "2                     4                       1  \n",
       "3                     2                      10  \n",
       "4                     2                      10  "
      ]
     },
     "execution_count": 2,
     "metadata": {},
     "output_type": "execute_result"
    }
   ],
   "source": [
    "#Read in data\n",
    "data = pd.read_excel('Disney_Loc_Final.xlsx', sheet_name = 'country')\n",
    "data.head()"
   ]
  },
  {
   "cell_type": "code",
   "execution_count": 3,
   "metadata": {},
   "outputs": [],
   "source": [
    "#Drop data with Null Value, small space, small GDP\n",
    "data = data.dropna()\n",
    "data = data.drop(data[data['area (km2)'] < 1000].index)\n",
    "data = data.drop(data[data['GDP (billions)'] < 2500].index)"
   ]
  },
  {
   "cell_type": "code",
   "execution_count": 4,
   "metadata": {},
   "outputs": [],
   "source": [
    "#Create two dataframes with dummy variables.\n",
    "region_dummy = pd.get_dummies(data['region'])\n",
    "subregion_dummy = pd.get_dummies(data['subregion'])"
   ]
  },
  {
   "cell_type": "markdown",
   "metadata": {},
   "source": [
    "Factors"
   ]
  },
  {
   "cell_type": "code",
   "execution_count": 5,
   "metadata": {},
   "outputs": [],
   "source": [
    "#Location \n",
    "country = data['country'].to_list()\n",
    "region = data['region'].to_list()\n",
    "subregion = data['subregion'].to_list()\n",
    "exist = data['Exist Disney park number'].to_list()\n",
    "\n",
    "#Attendance \n",
    "population = data['pop2021'].to_list()\n",
    "expark = data['Exist Disney park number'].to_list()\n",
    "GDP_sc = data['GDP_score'].to_list()\n",
    "temp_sc = data['temp_score'].to_list()\n",
    "DNplus_sc = data['disney+_score'].to_list()\n",
    "dv_sc = data['develped country score'].to_list()\n",
    "growth_att = 0.01 #growth rate for number of attendance in each year\n",
    "\n",
    "#Cost \n",
    "setup_cost = data['set-up cost(billion)'].to_list() #charge only in the first year\n",
    "fixed_cost = 1 #billion dollars charge every year\n",
    "growth_fc = 0.01 #growth rate for fixed cost in each year\n",
    "var_cost = 50 #per attendance\n",
    "\n",
    "#Revenue\n",
    "ticket_price = 200 #for first year\n",
    "growth_tkprice = 0.05 #growth rate for ticket price in each year\n",
    "SF_price = 200 #souvenir and food price average charge per attendance\n",
    "dis_rate = 0.05\n",
    "\n",
    "#Constraint\n",
    "budget = 10 #billion dollars"
   ]
  },
  {
   "cell_type": "code",
   "execution_count": 6,
   "metadata": {},
   "outputs": [],
   "source": [
    "#Attendance calculation (scale:billion)\n",
    "attendance = []\n",
    "for i in range(len(country)):\n",
    "    attendance.append((population[i]/(GDP_sc[i]*10)+(temp_sc[i])+(DNplus_sc[i])+(dv_sc[i]*5))/1000000000)"
   ]
  },
  {
   "cell_type": "code",
   "execution_count": 7,
   "metadata": {},
   "outputs": [],
   "source": [
    "#Declare decision variables \n",
    "model = ConcreteModel()\n",
    "model.x = Var(range(len(country)), domain = Binary) #location exist"
   ]
  },
  {
   "cell_type": "code",
   "execution_count": 8,
   "metadata": {},
   "outputs": [],
   "source": [
    "#Constraint1: Total set-up costs should be less or equal than our budget.\n",
    "model.Bud = ConstraintList()\n",
    "model.Bud.add(expr = sum(setup_cost[i] * model.x[i] for i in range(len(country))) <= budget)\n",
    "\n",
    "#Constraint2: We want 3 new Disneylands.\n",
    "model.DisneyNumb = ConstraintList()\n",
    "model.DisneyNumb.add(expr = sum(model.x[i] for i in range(len(country))) == 3)\n",
    "\n",
    "#Constraint3: We don't want another Disneyland in the country that already has one.\n",
    "model.NotSameLoc = ConstraintList()\n",
    "for i in range(len(country)):\n",
    "    model.NotSameLoc.add(expr = model.x[i] + exist[i] <= 1 )\n",
    "    \n",
    "#Constraint4: For each region, we want less or equal than 2 new Disneylands.\n",
    "model.Region = ConstraintList()\n",
    "for j in range(len(region_dummy.columns)):\n",
    "    model.Region.add(expr = sum(model.x[i]*region_dummy.iloc[i,j] for i in range(len(country))) <= 2)\n",
    "    \n",
    "#Constraint5: For each subregion, we want less or equal than 1 new Disneylands.\n",
    "model.SubRegion = ConstraintList()\n",
    "for k in range(len(subregion_dummy.columns)):\n",
    "    model.SubRegion.add(expr = sum(model.x[i]*subregion_dummy.iloc[i,j] for i in range(len(country))) <= 1)"
   ]
  },
  {
   "cell_type": "code",
   "execution_count": 10,
   "metadata": {},
   "outputs": [],
   "source": [
    "#Calculation for revenues (for npv in 20 years).\n",
    "revenue = {}\n",
    "npv_revenue = []\n",
    "for j in range(len(country)):\n",
    "    for i in range(20):\n",
    "        revenue[j,i] = (ticket_price * (1 + growth_tkprice) ** i + SF_price) * attendance[j] * (1 + growth_att) ** i  \n",
    "\n",
    "\n",
    "for j in range(len(country)):\n",
    "    npv_revenue.append(sum(revenue[j,i]/(1 + dis_rate)**i for i in range(20)))"
   ]
  },
  {
   "cell_type": "code",
   "execution_count": 11,
   "metadata": {},
   "outputs": [],
   "source": [
    "#Calculation for costs (for npv in 20 years).\n",
    "cost = {}\n",
    "npv_cost = []\n",
    "for j in range(len(country)):\n",
    "    for i in range(20):\n",
    "        cost[j,i] = fixed_cost*(1 + growth_fc)**i + (var_cost * attendance[j] * (1 + growth_att) ** i)\n",
    "\n",
    "for j in range(len(country)):\n",
    "    npv_cost.append(setup_cost[j] + sum(cost[j,i]/(1 + dis_rate)**i for i in range(20)))"
   ]
  },
  {
   "cell_type": "code",
   "execution_count": 12,
   "metadata": {},
   "outputs": [],
   "source": [
    "#Calculation for NPV\n",
    "npv = []\n",
    "for j in range(len(country)):\n",
    "    npv.append(npv_revenue[j] - npv_cost[j])"
   ]
  },
  {
   "cell_type": "code",
   "execution_count": 13,
   "metadata": {},
   "outputs": [],
   "source": [
    "#Objective\n",
    "model.Objective = Objective(expr = sum(model.x[i]*npv[i] for i in range(len(country))), sense = maximize)"
   ]
  },
  {
   "cell_type": "code",
   "execution_count": 14,
   "metadata": {},
   "outputs": [
    {
     "name": "stdout",
     "output_type": "stream",
     "text": [
      "GLPSOL--GLPK LP/MIP Solver 5.0\n",
      "Parameter(s) specified in the command line:\n",
      " --write /var/folders/dl/2xvw5bbd5_382j15_z3hc52m0000gn/T/tmp4pr5_3ik.glpk.raw\n",
      " --wglp /var/folders/dl/2xvw5bbd5_382j15_z3hc52m0000gn/T/tmpqq6_968p.glpk.glp\n",
      " --cpxlp /var/folders/dl/2xvw5bbd5_382j15_z3hc52m0000gn/T/tmpemp75ahw.pyomo.lp\n",
      "Reading problem data from '/var/folders/dl/2xvw5bbd5_382j15_z3hc52m0000gn/T/tmpemp75ahw.pyomo.lp'...\n",
      "/var/folders/dl/2xvw5bbd5_382j15_z3hc52m0000gn/T/tmpemp75ahw.pyomo.lp:1169: warning: lower bound of variable 'x1' redefined\n",
      "/var/folders/dl/2xvw5bbd5_382j15_z3hc52m0000gn/T/tmpemp75ahw.pyomo.lp:1169: warning: upper bound of variable 'x1' redefined\n",
      "143 rows, 116 columns, 501 non-zeros\n",
      "115 integer variables, all of which are binary\n",
      "1284 lines were read\n",
      "Writing problem data to '/var/folders/dl/2xvw5bbd5_382j15_z3hc52m0000gn/T/tmpqq6_968p.glpk.glp'...\n",
      "1022 lines were written\n",
      "GLPK Integer Optimizer 5.0\n",
      "143 rows, 116 columns, 501 non-zeros\n",
      "115 integer variables, all of which are binary\n",
      "Preprocessing...\n",
      "27 rows, 110 columns, 370 non-zeros\n",
      "110 integer variables, all of which are binary\n",
      "Scaling...\n",
      " A: min|aij| =  1.000e+00  max|aij| =  4.000e+00  ratio =  4.000e+00\n",
      "Problem data seem to be well scaled\n",
      "Constructing initial basis...\n",
      "Size of triangular part is 27\n",
      "Solving LP relaxation...\n",
      "GLPK Simplex Optimizer 5.0\n",
      "27 rows, 110 columns, 370 non-zeros\n",
      "      0: obj =  -5.388454279e+01 inf =   5.000e+00 (3)\n",
      "      2: obj =  -3.932906457e+01 inf =   0.000e+00 (0)\n",
      "*     8: obj =   3.990744874e+01 inf =   0.000e+00 (0)\n",
      "OPTIMAL LP SOLUTION FOUND\n",
      "Integer optimization begins...\n",
      "Long-step dual simplex will be used\n",
      "+     8: mip =     not found yet <=              +inf        (1; 0)\n",
      "+     8: >>>>>   3.990744874e+01 <=   3.990744874e+01   0.0% (1; 0)\n",
      "+     8: mip =   3.990744874e+01 <=     tree is empty   0.0% (0; 1)\n",
      "INTEGER OPTIMAL SOLUTION FOUND\n",
      "Time used:   0.0 secs\n",
      "Memory used: 0.2 Mb (196854 bytes)\n",
      "Writing MIP solution to '/var/folders/dl/2xvw5bbd5_382j15_z3hc52m0000gn/T/tmp4pr5_3ik.glpk.raw'...\n",
      "268 lines were written\n"
     ]
    }
   ],
   "source": [
    "#Solve and results\n",
    "opt = SolverFactory('glpk')\n",
    "opt.solve(model)\n",
    "results = opt.solve(model, tee=True)"
   ]
  },
  {
   "cell_type": "code",
   "execution_count": 15,
   "metadata": {},
   "outputs": [
    {
     "name": "stdout",
     "output_type": "stream",
     "text": [
      "The top 3 locations for our new Disneyland would be: \n",
      "Indonesia with total revenue at: 19.918 billion dollars.\n",
      "Brazil with total revenue at: 10.772 billion dollars.\n",
      "Germany with total revenue at: 9.218 billion dollars.\n",
      "Our total revenue from 3 new Disneylands would be:  39.907 billion dollars.\n"
     ]
    }
   ],
   "source": [
    "#Print solution and our selection\n",
    "print (\"The top 3 locations for our new Disneyland would be: \")\n",
    "for i in range(len(country)):\n",
    "    if model.x[i] != 0:\n",
    "        print(country[i], \"with total revenue at:\", round(npv[i],3), \"billion dollars.\")\n",
    "print(\"Our total revenue from 3 new Disneylands would be: \", round(model.Objective(),3),\"billion dollars.\")"
   ]
  },
  {
   "cell_type": "code",
   "execution_count": null,
   "metadata": {},
   "outputs": [],
   "source": []
  }
 ],
 "metadata": {
  "kernelspec": {
   "display_name": "Python 3",
   "language": "python",
   "name": "python3"
  },
  "language_info": {
   "codemirror_mode": {
    "name": "ipython",
    "version": 3
   },
   "file_extension": ".py",
   "mimetype": "text/x-python",
   "name": "python",
   "nbconvert_exporter": "python",
   "pygments_lexer": "ipython3",
   "version": "3.8.8"
  }
 },
 "nbformat": 4,
 "nbformat_minor": 4
}
